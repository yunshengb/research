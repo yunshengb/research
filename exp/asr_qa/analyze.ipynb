{
 "cells": [
  {
   "cell_type": "markdown",
   "metadata": {
    "collapsed": true,
    "slideshow": {
     "slide_type": "slide"
    }
   },
   "source": [
    "# ASR-QA\n",
    "## Lucida AI Evaluation"
   ]
  },
  {
   "cell_type": "markdown",
   "metadata": {
    "slideshow": {
     "slide_type": "slide"
    }
   },
   "source": [
    "### Steps\n",
    "\n",
    "1. Preprocess raw data\n",
    "from `txt` files to panda `DataFrame`\n",
    "2. Analyze\n",
    "from panda `DataFrame` to statistics\n",
    "3. Plot\n",
    "from statistics to plot"
   ]
  },
  {
   "cell_type": "code",
   "execution_count": 1,
   "metadata": {
    "collapsed": false,
    "slideshow": {
     "slide_type": "skip"
    }
   },
   "outputs": [],
   "source": [
    "%matplotlib inline\n",
    "import numpy as np\n",
    "import pandas as pd\n",
    "import re, string\n",
    "from operator import itemgetter\n",
    "import matplotlib.pyplot as plt\n",
    "\n",
    "# Returns a DataFrame from the file with the following format:\n",
    "# <audio_path>,<transcript>\n",
    "# in which the audio path is of the following format:\n",
    "# \"path/to/file/<query_id>_<text>.wav\"\n",
    "# An example file:\n",
    "# ../asr_qa/speech/0_Helloworld.wav,\"hello world.\"\n",
    "# The DataFrame has only one column: transcript\n",
    "# with the specified header\n",
    "# and sorted by the query id.\n",
    "def get_df_from_asr_result(file_path, header):\n",
    "    file = open(file_path, 'r')\n",
    "    lines = file.readlines()\n",
    "    file.close()\n",
    "    proc_lines = []\n",
    "    for line in lines:\n",
    "        line = line.lstrip().rstrip('\\n')\n",
    "        # The first occurrence of a number is assumed to be the query id.\n",
    "        id = int(re.search(r'\\d+', line).group())\n",
    "        transcript = line.split(',')[1]\n",
    "        if transcript.startswith('\"') and transcript.endswith('\"'):\n",
    "            transcript = transcript[1:-1]\n",
    "        proc_lines.append((id, transcript))\n",
    "    proc_lines.sort(key=itemgetter(0)) # sort data by ID\n",
    "    df = pd.DataFrame([row[1] for row in proc_lines], columns=[header])\n",
    "    return df\n",
    "\n",
    "data = pd.read_csv('text/query.txt')\n",
    "data = data.join(get_df_from_asr_result('asr_result_fisher.txt', 'fisher_transcript'))\n",
    "data = data.join(get_df_from_asr_result('asr_result_librispeech.txt', 'librispeech_transcript'))\n",
    "data = data.join(get_df_from_asr_result('asr_result_tedlium.txt', 'tedlium_transcript'))"
   ]
  },
  {
   "cell_type": "code",
   "execution_count": 2,
   "metadata": {
    "collapsed": false,
    "slideshow": {
     "slide_type": "skip"
    }
   },
   "outputs": [],
   "source": [
    "# Add double quotes to each filed of a csv file \n",
    "# whcih has two fields.\n",
    "# Print the processed lines out.\n",
    "def add_double_quotes(file_path):\n",
    "    file = open(file_path, 'r')\n",
    "    lines = file.readlines()\n",
    "    file.close()\n",
    "    def process_str(str):\n",
    "        return '\"' + str + '\"' if str and str[0] != '\"' else str\n",
    "    for line in lines:\n",
    "        line = line.lstrip().rstrip('\\n')\n",
    "        first = line.split(',')[0]\n",
    "        second = line.split(',')[1:]\n",
    "        second = ''.join(x for x in second)\n",
    "        print(process_str(first) + ',' + process_str(second))\n",
    "# Normalize the following files.\n",
    "# add_double_quotes('qa_result_fisher.txt')\n",
    "# add_double_quotes('qa_result_librispeech.txt')\n",
    "# add_double_quotes('qa_result_tedlium.txt')\n",
    "# add_double_quotes('qa_result_regular.txt')\n",
    "# add_double_quotes('text/query.txt')"
   ]
  },
  {
   "cell_type": "code",
   "execution_count": 3,
   "metadata": {
    "collapsed": false,
    "slideshow": {
     "slide_type": "skip"
    }
   },
   "outputs": [],
   "source": [
    "# Returns a DataFrame from the file with the following format:\n",
    "# <query>,<answer>\n",
    "# An example file:\n",
    "# \"who is the president of usa.\",\"Factoid not found in knowledge base.\"\n",
    "# The DataFrame has only one column: answer\n",
    "# with the specified header\n",
    "# and sorted by the row index row `row_index` which satisfies\n",
    "# data[match_col][row_index] == query.\n",
    "def get_df_from_qa_result(file_path, header, data, match_col):\n",
    "    file = open(file_path, 'r')\n",
    "    lines = file.readlines()\n",
    "    file.close()\n",
    "    proc_lines = []\n",
    "    for line in lines:\n",
    "        line = line.lstrip().rstrip('\\n')\n",
    "        query = line.split(',')[0]\n",
    "        match_row = -1\n",
    "        # To compare a string with another with less strict conditions,\n",
    "        # remove pucntuations from the string.\n",
    "        def stripped_str(str):\n",
    "            return str.translate(str.maketrans('', '', string.punctuation))\n",
    "        for j, match_transcript in enumerate(data[match_col]):\n",
    "            if stripped_str(match_transcript) == stripped_str(query):\n",
    "                if match_row != -1:\n",
    "                    raise RuntimeError('Find the query ' + query +' again!')\n",
    "                match_row = j\n",
    "        if match_row == -1:\n",
    "            raise RuntimeError('Cannot find the query ' + query)\n",
    "        # Have found exactly one line that matches the transcript.\n",
    "        answer = line.split(',')[1:]\n",
    "        answer = ''.join(x for x in answer)\n",
    "        answer = answer.replace('Factoid not found in knowledge base.', '')\n",
    "        answer = answer.replace(' (from Wikipedia: ', '')\n",
    "        answer = answer.replace(')', '')\n",
    "        if answer.startswith('\"') and answer.endswith('\"'):\n",
    "            answer = answer[1:-1]\n",
    "        if answer == '':\n",
    "            answer = 'null'\n",
    "        proc_lines.append((match_row, answer))\n",
    "    assert(len(proc_lines) == len(lines))\n",
    "    proc_lines.sort(key=itemgetter(0)) # sort data by row index\n",
    "    df = pd.DataFrame([row[1] for row in proc_lines], columns=[header])\n",
    "    return df\n",
    "\n",
    "data = data.join(get_df_from_qa_result('qa_result_fisher.txt', 'fisher_answer', data, 'fisher_transcript'))\n",
    "data = data.join(get_df_from_qa_result('qa_result_librispeech.txt', 'librispeech_answer', data, 'librispeech_transcript'))\n",
    "data = data.join(get_df_from_qa_result('qa_result_tedlium.txt', 'tedlium_answer', data, 'tedlium_transcript'))\n",
    "data = data.join(get_df_from_qa_result('qa_result_regular.txt', 'regular_answer', data, 'query'))"
   ]
  },
  {
   "cell_type": "markdown",
   "metadata": {
    "slideshow": {
     "slide_type": "slide"
    }
   },
   "source": [
    "### Processed Data as Table\n",
    "Let's print it out!"
   ]
  },
  {
   "cell_type": "code",
   "execution_count": 11,
   "metadata": {
    "collapsed": false,
    "scrolled": false,
    "slideshow": {
     "slide_type": "fragment"
    }
   },
   "outputs": [
    {
     "data": {
      "text/html": [
       "<div>\n",
       "<table border=\"1\" class=\"dataframe\">\n",
       "  <thead>\n",
       "    <tr style=\"text-align: right;\">\n",
       "      <th></th>\n",
       "      <th>query</th>\n",
       "      <th>answer</th>\n",
       "      <th>regular_answer</th>\n",
       "      <th>fisher_transcript</th>\n",
       "      <th>fisher_answer</th>\n",
       "      <th>librispeech_transcript</th>\n",
       "      <th>librispeech_answer</th>\n",
       "      <th>tedlium_transcript</th>\n",
       "      <th>tedlium_answer</th>\n",
       "    </tr>\n",
       "  </thead>\n",
       "  <tbody>\n",
       "    <tr>\n",
       "      <th>0</th>\n",
       "      <td>Who is the current president of the United Sta...</td>\n",
       "      <td>Barack Obama</td>\n",
       "      <td>Barack Obama</td>\n",
       "      <td>so is the current president of the united stat...</td>\n",
       "      <td>null</td>\n",
       "      <td>WHO IS THE CURRENT PRESIDENT OF THE UNITED STA...</td>\n",
       "      <td>Barack Obama</td>\n",
       "      <td>who is the current president of the united sta...</td>\n",
       "      <td>Barack Obama</td>\n",
       "    </tr>\n",
       "    <tr>\n",
       "      <th>1</th>\n",
       "      <td>Who wrote the Walden?</td>\n",
       "      <td>Henry David Thoreau</td>\n",
       "      <td>Alan</td>\n",
       "      <td>right the long run.</td>\n",
       "      <td>null</td>\n",
       "      <td>WHO WROTE THE WALDEN.</td>\n",
       "      <td>null</td>\n",
       "      <td>here at the wall then.</td>\n",
       "      <td>null</td>\n",
       "    </tr>\n",
       "    <tr>\n",
       "      <th>2</th>\n",
       "      <td>Who founded Apple Inc.?</td>\n",
       "      <td>Steve Jobs Ronald Wayne and Steve Wozniak</td>\n",
       "      <td>Steve Jobs</td>\n",
       "      <td>sounded that's willing to.</td>\n",
       "      <td>null</td>\n",
       "      <td>WHO FOUNDED AT FULL LENGTH.</td>\n",
       "      <td>35 mm</td>\n",
       "      <td>who founded at the link.</td>\n",
       "      <td>null</td>\n",
       "    </tr>\n",
       "    <tr>\n",
       "      <th>3</th>\n",
       "      <td>Who is the first man on the moon?</td>\n",
       "      <td>Neil Armstrong</td>\n",
       "      <td>adam</td>\n",
       "      <td>so is the first man on the moon.</td>\n",
       "      <td>null</td>\n",
       "      <td>WHO IS THE FIRST MAN ON THE MOON.</td>\n",
       "      <td>adam</td>\n",
       "      <td>he was the first man on the moon.</td>\n",
       "      <td>null</td>\n",
       "    </tr>\n",
       "    <tr>\n",
       "      <th>4</th>\n",
       "      <td>Who founded the Black Panthers organization?</td>\n",
       "      <td>Huey P. Newton and Bobby Seale</td>\n",
       "      <td>Heron</td>\n",
       "      <td>sounded the black panthers organisation.</td>\n",
       "      <td>null</td>\n",
       "      <td>WHO FOUNDED THE BLACK FENCERS ORGANIZATION.</td>\n",
       "      <td>null</td>\n",
       "      <td>who founded the black panthers organization.</td>\n",
       "      <td>Heron</td>\n",
       "    </tr>\n",
       "  </tbody>\n",
       "</table>\n",
       "</div>"
      ],
      "text/plain": [
       "                                               query  \\\n",
       "0  Who is the current president of the United Sta...   \n",
       "1                              Who wrote the Walden?   \n",
       "2                            Who founded Apple Inc.?   \n",
       "3                  Who is the first man on the moon?   \n",
       "4       Who founded the Black Panthers organization?   \n",
       "\n",
       "                                      answer regular_answer  \\\n",
       "0                               Barack Obama   Barack Obama   \n",
       "1                        Henry David Thoreau           Alan   \n",
       "2  Steve Jobs Ronald Wayne and Steve Wozniak     Steve Jobs   \n",
       "3                             Neil Armstrong           adam   \n",
       "4             Huey P. Newton and Bobby Seale          Heron   \n",
       "\n",
       "                                   fisher_transcript fisher_answer  \\\n",
       "0  so is the current president of the united stat...          null   \n",
       "1                                right the long run.          null   \n",
       "2                         sounded that's willing to.          null   \n",
       "3                   so is the first man on the moon.          null   \n",
       "4           sounded the black panthers organisation.          null   \n",
       "\n",
       "                              librispeech_transcript librispeech_answer  \\\n",
       "0  WHO IS THE CURRENT PRESIDENT OF THE UNITED STA...       Barack Obama   \n",
       "1                              WHO WROTE THE WALDEN.               null   \n",
       "2                        WHO FOUNDED AT FULL LENGTH.              35 mm   \n",
       "3                  WHO IS THE FIRST MAN ON THE MOON.               adam   \n",
       "4        WHO FOUNDED THE BLACK FENCERS ORGANIZATION.               null   \n",
       "\n",
       "                                  tedlium_transcript tedlium_answer  \n",
       "0  who is the current president of the united sta...   Barack Obama  \n",
       "1                             here at the wall then.           null  \n",
       "2                           who founded at the link.           null  \n",
       "3                  he was the first man on the moon.           null  \n",
       "4       who founded the black panthers organization.          Heron  "
      ]
     },
     "metadata": {},
     "output_type": "display_data"
    }
   ],
   "source": [
    "from IPython.display import display\n",
    "data = data[['query', 'answer', 'regular_answer', 'fisher_transcript', 'fisher_answer', \\\n",
    "             'librispeech_transcript', 'librispeech_answer', 'tedlium_transcript', 'tedlium_answer']]\n",
    "display(data[0:5])\n",
    "data.to_csv('data.txt')"
   ]
  },
  {
   "cell_type": "code",
   "execution_count": 12,
   "metadata": {
    "collapsed": false,
    "scrolled": true,
    "slideshow": {
     "slide_type": "skip"
    }
   },
   "outputs": [],
   "source": [
    "# Returns the error rate of str2 given str1 as the correct text.\n",
    "def error_rate(str1, str2):\n",
    "    split1 = str1.lower().split()\n",
    "    split2 = str2.lower().split()\n",
    "    correct_count = 0\n",
    "    wront_count = 0\n",
    "    for word in split1:\n",
    "        if word in split2:\n",
    "            correct_count += 1\n",
    "        else:\n",
    "            wront_count += 1\n",
    "    return wront_count / (correct_count + wront_count)\n",
    "\n",
    "# Returns true if the answer is the same as the correct answer.\n",
    "# Returns false otherwise.\n",
    "def answer_is_correct(answer, correct_answer):\n",
    "    return answer.lower() in correct_answer.lower()\n",
    "\n",
    "# Analyzes the data for the specified ASR and returns the statistics.\n",
    "def analyze(data, asr_name):\n",
    "    size = data.shape[0]\n",
    "    asr_errors = np.zeros(size)\n",
    "    for j, transcript in enumerate(data[asr_name + '_transcript']):\n",
    "        asr_errors[j] = error_rate(data['query'][j], transcript)\n",
    "    scores = np.zeros(size)\n",
    "    relative_scores = np.zeros(size)\n",
    "    regular_result = np.zeros(size)\n",
    "    result = np.zeros(size)\n",
    "    for j, answer in enumerate(data[asr_name + '_answer']):\n",
    "        correct_answer = data['answer'][j]\n",
    "        regular_answer = data['regular_answer'][j]\n",
    "        if answer_is_correct(regular_answer, correct_answer):\n",
    "            # Regualr is correct.\n",
    "            regular_result[j] = 1\n",
    "            if not answer_is_correct(answer, correct_answer):\n",
    "                # Become wrong.\n",
    "                scores[j] = 0\n",
    "                relative_scores[j] = -2\n",
    "#                 print('@@@ -2', j, asr_errors[j])\n",
    "            else:\n",
    "                # Still correct.\n",
    "                print('@@@ 1', correct_answer, ';', answer)\n",
    "                scores[j] = 1\n",
    "                relative_scores[j] = 1\n",
    "                result[j] = 1\n",
    "        else:\n",
    "            # Regular is wrong.\n",
    "            if not answer_is_correct(answer, correct_answer):\n",
    "                # Still wrong.\n",
    "                scores[j] = 0\n",
    "                relative_scores[j] = -1\n",
    "            else:\n",
    "                # Become correct!\n",
    "                print('@@@ 2', correct_answer, ';', answer)\n",
    "                scores[j] = 1\n",
    "                relative_scores[j] = 2\n",
    "                result[j] = 1\n",
    "    \n",
    "    accuracy = np.count_nonzero(result) / result.size\n",
    "    print('avg_asr_error:', asr_errors.mean(), 'accuracy:', accuracy)\n",
    "    return {'asr_name': asr_name, 'asr_errors': asr_errors, \\\n",
    "            'avg_asr_error': asr_errors.mean(), \\\n",
    "            'relative_scores': relative_scores, \\\n",
    "            'regular_result': regular_result, 'result': result, \\\n",
    "            'accuracy': accuracy}\n",
    "\n",
    "# Plot.\n",
    "def plot(color, asr_name, asr_errors, relative_scores, **extras):\n",
    "    fig = plt.figure()\n",
    "    plt.rc(\"font\", family=\"serif\")\n",
    "    plt.rc(\"font\", size=15)\n",
    "    plt.xlabel('Error Rate')\n",
    "    plt.ylabel('Score')\n",
    "    plt.title(asr_name)\n",
    "    plt.scatter(asr_errors, relative_scores, label=asr_name, color=color)\n"
   ]
  },
  {
   "cell_type": "markdown",
   "metadata": {
    "slideshow": {
     "slide_type": "slide"
    }
   },
   "source": [
    "### Plots\n",
    "Explanation: `scores` are relative to the baseline (i.e. no ASR):\n",
    "1. If the baseline is correct but the ASR causes it to be wrong, the score is -2\n",
    "2. If the baseline is correct and the ASR does not change the result, the score is +1\n",
    "3. If the baseline is wrong and the ASR does not change the result, the score is -1\n",
    "2. If the baseline is wrong but the ASR causes it to be correct, the score is +2"
   ]
  },
  {
   "cell_type": "code",
   "execution_count": 6,
   "metadata": {
    "collapsed": false,
    "slideshow": {
     "slide_type": "slide"
    }
   },
   "outputs": [
    {
     "name": "stdout",
     "output_type": "stream",
     "text": [
      "@@@ 1 Egypt ; Egypt\n",
      "@@@ 1 Valladolid Spain ; Spain\n",
      "avg_asr_error: 0.537023282273 accuracy: 0.02\n"
     ]
    },
    {
     "data": {
      "image/png": "[encoded data removed]",
      "text/plain": [
       "<matplotlib.figure.Figure at 0x104164d68>"
      ]
     },
     "metadata": {},
     "output_type": "display_data"
    }
   ],
   "source": [
    "stats_list = []\n",
    "stats_list.append(analyze(data, 'fisher'))\n",
    "plot('lightcoral', **stats_list[-1])"
   ]
  },
  {
   "cell_type": "code",
   "execution_count": 7,
   "metadata": {
    "collapsed": false,
    "slideshow": {
     "slide_type": "slide"
    }
   },
   "outputs": [
    {
     "name": "stdout",
     "output_type": "stream",
     "text": [
      "@@@ 1 Barack Obama ; Barack Obama\n",
      "@@@ 1 Alexander Graham Bell and Antonio Meucci ; Alexander Graham Bell\n",
      "@@@ 1 Roald Amundsen ; Amundsen\n",
      "@@@ 1 Geoffrey Chaucer ; Chaucer\n",
      "@@@ 1 Henry Puyi ; Puyi\n",
      "avg_asr_error: 0.372757659008 accuracy: 0.05\n"
     ]
    },
    {
     "data": {
      "image/png": "[encoded data removed]",
      "text/plain": [
       "<matplotlib.figure.Figure at 0x1152dbe80>"
      ]
     },
     "metadata": {},
     "output_type": "display_data"
    }
   ],
   "source": [
    "stats_list.append(analyze(data, 'librispeech'))\n",
    "plot('lightskyblue', **stats_list[-1])"
   ]
  },
  {
   "cell_type": "code",
   "execution_count": 8,
   "metadata": {
    "collapsed": false,
    "slideshow": {
     "slide_type": "slide"
    }
   },
   "outputs": [
    {
     "name": "stdout",
     "output_type": "stream",
     "text": [
      "@@@ 1 Barack Obama ; Barack Obama\n",
      "@@@ 1 Bill Gates ; Gates\n",
      "@@@ 1 Valladolid Spain ; Spain\n",
      "@@@ 1 Mona Lisa ; Mona Lisa\n",
      "avg_asr_error: 0.424246725497 accuracy: 0.04\n"
     ]
    },
    {
     "data": {
      "image/png": "[encoded data removed]",
      "text/plain": [
       "<matplotlib.figure.Figure at 0x104164b00>"
      ]
     },
     "metadata": {},
     "output_type": "display_data"
    }
   ],
   "source": [
    "stats_list.append(analyze(data, 'tedlium'))\n",
    "plot('yellowgreen', **stats_list[-1])"
   ]
  },
  {
   "cell_type": "code",
   "execution_count": 9,
   "metadata": {
    "collapsed": false,
    "slideshow": {
     "slide_type": "skip"
    }
   },
   "outputs": [],
   "source": [
    "def plot(stats_list):    \n",
    "    fig = plt.figure()\n",
    "    plt.rc(\"font\", family=\"serif\")\n",
    "    plt.rc(\"font\", size=15)\n",
    "    plt.xlabel('Average Error Rate')\n",
    "    plt.ylabel('Accuracy')\n",
    "    plt.title('No Inversion of Errors')\n",
    "\n",
    "    avg_asr_error_list = [stat['avg_asr_error'] for stat in stats_list]\n",
    "    accuracy_list = [stat['accuracy'] for stat in stats_list]\n",
    "    plt.scatter(avg_asr_error_list, accuracy_list, color='orange')\n",
    "    for i, txt in enumerate(avg_asr_error_list):\n",
    "        plt.annotate \\\n",
    "        ('({},{})'.format(avg_asr_error_list[i], accuracy_list[i]), \\\n",
    "         (avg_asr_error_list[i], accuracy_list[i]))\n"
   ]
  },
  {
   "cell_type": "code",
   "execution_count": 10,
   "metadata": {
    "collapsed": false,
    "slideshow": {
     "slide_type": "slide"
    }
   },
   "outputs": [
    {
     "data": {
      "image/png": "[encoded data removed]",
      "text/plain": [
       "<matplotlib.figure.Figure at 0x115454f60>"
      ]
     },
     "metadata": {},
     "output_type": "display_data"
    }
   ],
   "source": [
    "plot(stats_list)"
   ]
  }
 ],
 "metadata": {
  "anaconda-cloud": {},
  "celltoolbar": "Slideshow",
  "kernelspec": {
   "display_name": "Python [Root]",
   "language": "python",
   "name": "Python [Root]"
  },
  "language_info": {
   "codemirror_mode": {
    "name": "ipython",
    "version": 3
   },
   "file_extension": ".py",
   "mimetype": "text/x-python",
   "name": "python",
   "nbconvert_exporter": "python",
   "pygments_lexer": "ipython3",
   "version": "3.5.2"
  }
 },
 "nbformat": 4,
 "nbformat_minor": 0
}
